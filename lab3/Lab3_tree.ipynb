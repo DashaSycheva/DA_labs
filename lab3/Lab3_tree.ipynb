{
 "cells": [
  {
   "cell_type": "markdown",
   "metadata": {},
   "source": [
    "# Сычева Дарья, РИМ-181226"
   ]
  },
  {
   "cell_type": "markdown",
   "metadata": {},
   "source": [
    "# Решающее дерево"
   ]
  },
  {
   "cell_type": "markdown",
   "metadata": {},
   "source": [
    "Отметим, что решающее дерево состоит из вершин, в которых записывает некоторое условие, а в листах дерева - прогноз. Условия во внутренних вершинах выбираются простыми. Наиболее частый вариант - проверка лежит ли значение некоторого признака $x^j$ левее порога $t$:\n",
    "\n",
    "$[x^j \\leq t]$\n",
    "\n",
    "Легко заметить, что такое условие зависит только от одного признака. Прогноз в листе является вещественным числом, если решается задача регрессии. Если же решается задача классификации, то в качестве прогноза выступает или класс или распределение вероятностей классов.\n",
    "\n",
    "Запишем некоторую функцию ошибки следующим образом: есть набор данных $X_m$, есть номер рассматриваемого признака $j$ и есть порог $t$.\n",
    "\n",
    "$L(X_m, j, t) \\rightarrow \\underset{j,t}{min}$\n",
    "\n",
    "Осуществим перебор всех возможных признаков $j$ и порогов $t$ для этих признаков. Каждый раз исходное множество будет разбиваться на два подмножества:\n",
    "\n",
    "$X_l = \\{x \\in X_m | [ x^j \\leq t ] \\}$ и $X_к = \\{x \\in X_m | [ x^j > t ] \\}$\n",
    "\n",
    "Такую процедуру можно продолжить для каждого получившегося множества (рекурсивно вызывать функцию деления для получающихся подмножеств).\n",
    "\n",
    "Необходимо отметить, что если вершина была объявлена листом, необходимо сделать прогноз для этого листа. Для задачи регрессии берется среднее значение по этой выборке,\n",
    "для задачи классификации возвращается тот класс, которые наиболее популярен в выборке. Можно указывать вероятность классов в листе.\n",
    "\n",
    "Для каждого разбиения необходимо расчитывать функцию потерь:\n",
    "\n",
    "$L(X_m, j, t) = \\frac{|X_l|}{|X_m|}H(X_l) + \\frac{|X_r|}{|X_m|}H(X_r)$,\n",
    "\n",
    "где $H(X)=\\sum\\limits_{k=1}^{K} p_k(1 - p_k)$ - критерий информативности Джинни.\n",
    "\n",
    "$p_k$ - доля объектов класса $k$ в выборке X:\n",
    "\n",
    "$p_k=\\frac{1}{|X|}\\sum\\limits_{i \\in X}{[y_i = k]}$\n",
    "\n",
    "В задаче работаем только с числовыми данными и строим дерево классификации.\n",
    "\n",
    "Данные сгенерированы случайным образом."
   ]
  },
  {
   "cell_type": "code",
   "execution_count": 1,
   "metadata": {},
   "outputs": [
    {
     "data": {
      "text/plain": [
       "<matplotlib.collections.PathCollection at 0x1adeb041e10>"
      ]
     },
     "execution_count": 1,
     "metadata": {},
     "output_type": "execute_result"
    },
    {
     "data": {
      "image/png": "[encoded data removed]",
      "text/plain": [
       "<Figure size 432x288 with 1 Axes>"
      ]
     },
     "metadata": {
      "needs_background": "light"
     },
     "output_type": "display_data"
    }
   ],
   "source": [
    "from sklearn.datasets import make_blobs, make_moons\n",
    "import matplotlib.pyplot as plt\n",
    "import numpy as np\n",
    "%matplotlib inline\n",
    "\n",
    "x, y = make_moons(n_samples=100, noise=0.1)\n",
    "plt.scatter(x[:,0], x[:,1], c = y)"
   ]
  },
  {
   "cell_type": "markdown",
   "metadata": {},
   "source": [
    "\n",
    "## Задание 1\n",
    "\n",
    "Напишите функцию, которая получает на вход матрицу данных ($x$) и целевые переменные ($y$), на выходе функция возвращает номер признака ($i$), порог разбиения($t$), значение в листовой вершине слева ($y_l$) и значение в листовой вершине справа ($y_r$).\n",
    "Постарайтесь учесть, что пороги разбиения должны лежать строго по середине между ближайшими обектами.\n",
    "\n",
    "Необходимо учесть:\n",
    "\n",
    "1. Разбиений не требуется, если в получившемся множестве находятся объекты одного класса.\n",
    "2. Количество различных классов объектов в целевой переменной может быть больше двух.\n"
   ]
  },
  {
   "cell_type": "code",
   "execution_count": 2,
   "metadata": {},
   "outputs": [],
   "source": [
    "def GiniFunc(left, right, edge):\n",
    "    values = left + right\n",
    "    valuesCount = float(len(values))\n",
    "    ctgrs = list(set([value[2] for value in values]))\n",
    "    \n",
    "    giniVar = 0.0\n",
    "    for group in (left, right):\n",
    "        groupLen = float(len(group))\n",
    "        score = 0.0\n",
    "        for category in ctgrs:\n",
    "            catRelation = [key[2] for key in group].count(category) / groupLen\n",
    "            score += catRelation * catRelation\n",
    "\n",
    "        giniVar += (1 - score) * (groupLen / valuesCount)\n",
    "    return giniVar"
   ]
  },
  {
   "cell_type": "code",
   "execution_count": 3,
   "metadata": {},
   "outputs": [],
   "source": [
    "def LossFunc(dimensionTuples, edge):\n",
    "    left = []\n",
    "    right = []\n",
    "    \n",
    "    for value in dimensionTuples:\n",
    "        targetList = left if value[1] <= edge else right\n",
    "        targetList.append(value)\n",
    "\n",
    "    return GiniFunc(left, right, edge)"
   ]
  },
  {
   "cell_type": "code",
   "execution_count": 4,
   "metadata": {},
   "outputs": [],
   "source": [
    "def DimensionEdge(positionsList, pointValues):\n",
    "    # create tuples for dimension like (index, position, value)\n",
    "    dimensionTuples = []\n",
    "    for key, position in enumerate(positionsList):\n",
    "        dimensionTuples.append((key, position, pointValues[key]))\n",
    "    dimensionTuples.sort(key=lambda v: v[1])\n",
    "    \n",
    "    minGini, index = 1, -1\n",
    "    for key in range(len(dimensionTuples) - 1):\n",
    "        left = dimensionTuples[key]\n",
    "        right = dimensionTuples[key + 1]\n",
    "        edge = (left[1] + right[1]) / 2\n",
    "        \n",
    "        giniVar = LossFunc(dimensionTuples, edge)\n",
    "        if (giniVar < minGini):\n",
    "            minGini, index = giniVar, key\n",
    "\n",
    "    return minGini, dimensionTuples[index], dimensionTuples[index + 1];"
   ]
  },
  {
   "cell_type": "code",
   "execution_count": 5,
   "metadata": {},
   "outputs": [],
   "source": [
    "def getList(y):\n",
    "    categoriesList = list(set(y));\n",
    "    return -1 if len(categoriesList) > 1 else int(categoriesList[0])"
   ]
  },
  {
   "cell_type": "code",
   "execution_count": 6,
   "metadata": {},
   "outputs": [],
   "source": [
    "def split(x, y, dimension, edge):\n",
    "    xTargets = {\n",
    "        'x': [],\n",
    "        'y': []\n",
    "    }\n",
    "    yTargets = {\n",
    "        'x': [],\n",
    "        'y': []\n",
    "    }\n",
    "    for key, values in enumerate(x):\n",
    "        targets = xTargets if values[dimension] <= edge else yTargets\n",
    "        targets['x'].append(values)\n",
    "        targets['y'].append(y[key])\n",
    "\n",
    "    return [xTargets, yTargets]"
   ]
  },
  {
   "cell_type": "code",
   "execution_count": 7,
   "metadata": {},
   "outputs": [],
   "source": [
    "def getEdge(valuesSet):\n",
    "    if(type(valuesSet) is int):\n",
    "        return valuesSet\n",
    "    \n",
    "    x = valuesSet['x']\n",
    "    y = valuesSet['y']\n",
    "    \n",
    "    leaf = getList(y);\n",
    "    \n",
    "    if (not leaf == -1):\n",
    "        return leaf;\n",
    "    \n",
    "    minDimensionKey, minGini, minLeft, minRight = -1, 1, 0, 0\n",
    "    for dimensionKey in range(len(x[0])):\n",
    "        dimensionValues = [values[dimensionKey] for values in x]\n",
    "        giniVar, left, right = DimensionEdge(dimensionValues, y)\n",
    "        if (giniVar < minGini):\n",
    "            minDimensionKey, minGini, minLeft, minRight = dimensionKey, giniVar, left, right\n",
    "    \n",
    "    edge = (minLeft[1] + minRight[1]) / 2\n",
    "    \n",
    "    left, right = split(x, y, minDimensionKey, edge);\n",
    "    leftLeaf = getList(left['y'])\n",
    "    rightLeaf = getList(right['y'])\n",
    "    \n",
    "    return {\n",
    "        'dimension': minDimensionKey,\n",
    "        'edge': edge,\n",
    "        'leftValue': minLeft[1],\n",
    "        'rightValue': minRight[1],\n",
    "        'gini': minGini,\n",
    "        'left': left,\n",
    "        'right': right,\n",
    "    };\n",
    "\n",
    "firstSplit = getEdge({\n",
    "    'x': x,\n",
    "    'y': y\n",
    "})"
   ]
  },
  {
   "cell_type": "markdown",
   "metadata": {},
   "source": [
    "После первого разбиения мы считаем, что в листе дерева будет находиться класс объектов, которых больше всего в этом множестве. Реализуйте классификатор дерева решений в виде функции, которая получает на вход признаки объекта - $x$, на выходе метка класса - $y_{pred}$. Величину порога деления возьмите с точностью до 5 знака после запятой.\n",
    "\n",
    "Визуализируйте получившиеся результаты классификатора на плоскости. Для этого воспользуйтесь кодом ниже, чтобы построить поверхность. $t$ - порог разбиения $i$ - номер признака."
   ]
  },
  {
   "cell_type": "code",
   "execution_count": 8,
   "metadata": {},
   "outputs": [
    {
     "data": {
      "text/plain": [
       "<matplotlib.collections.PathCollection at 0x1adeb11e6a0>"
      ]
     },
     "execution_count": 8,
     "metadata": {},
     "output_type": "execute_result"
    },
    {
     "data": {
      "image/png": "[encoded data removed]",
      "text/plain": [
       "<Figure size 432x288 with 1 Axes>"
      ]
     },
     "metadata": {
      "needs_background": "light"
     },
     "output_type": "display_data"
    }
   ],
   "source": [
    "def tree_clf(x):\n",
    "    y_pred = list()  \n",
    "    for it in x.transpose():\n",
    "        y_pred.append(1 if it[firstSplit['dimension']] <= firstSplit['edge'] else 0)\n",
    "    return np.array(y_pred)\n",
    "\n",
    "h = .02\n",
    "x0_min, x0_max = np.min(x[:,0]) - 1, np.max(x[:,0]) + 1\n",
    "x1_min, x1_max = np.min(x[:,1]) - 1, np.max(x[:,1]) + 1\n",
    "xx0, xx1 = np.meshgrid(np.arange(x0_min, x0_max, h),\n",
    "                         np.arange(x1_min, x1_max, h))\n",
    "\n",
    "Z = tree_clf(np.stack((xx0.ravel(),xx1.ravel())))\n",
    "\n",
    "Z = Z.reshape(xx0.shape)\n",
    "cm = plt.cm.RdBu\n",
    "plt.contourf(xx0, xx1, Z, cmap=cm, alpha=.8)\n",
    "plt.scatter(x[:,0], x[:,1], c = y)\n"
   ]
  },
  {
   "cell_type": "markdown",
   "metadata": {},
   "source": [
    "Проведите процесс разбиение в получившихся листах дерева до глубины 2. Перепишите функцию классификатора. Визуализируйте результаты классификации."
   ]
  },
  {
   "cell_type": "code",
   "execution_count": 9,
   "metadata": {},
   "outputs": [],
   "source": [
    "# decisionsTree:\n",
    "# int or {\n",
    "#     dimension: 1,\n",
    "#     edge: 1.5,\n",
    "#     left: 2, # particular leaf (int)\n",
    "#     right: {...decisionsTree} # decisionsTree (dict)\n",
    "# }\n",
    "def categorizePoint(point, decisionTree):\n",
    "    dimension = decisionTree['dimension']\n",
    "    edge = decisionTree['edge']\n",
    "    left = decisionTree['left']\n",
    "    right = decisionTree['right']\n",
    "    target = left if point[dimension] <= edge else right\n",
    "    \n",
    "    if (type(target) is dict):\n",
    "        return categorizePoint(point, target);\n",
    "    else:\n",
    "        return target;"
   ]
  },
  {
   "cell_type": "code",
   "execution_count": 10,
   "metadata": {},
   "outputs": [],
   "source": [
    "def categorizePoints(x, decisionTree):\n",
    "    y_pred = list()  \n",
    "    for it in x.transpose():\n",
    "        y_pred.append(categorizePoint(it, decisionTree))\n",
    "    return np.array(y_pred)"
   ]
  },
  {
   "cell_type": "code",
   "execution_count": 11,
   "metadata": {},
   "outputs": [],
   "source": [
    "def printDecisionsTree(x, decisionTree):\n",
    "    h = .02\n",
    "    x0_min, x0_max = np.min(x[:,0]) - 1, np.max(x[:,0]) + 1\n",
    "    x1_min, x1_max = np.min(x[:,1]) - 1, np.max(x[:,1]) + 1\n",
    "    xx0, xx1 = np.meshgrid(np.arange(x0_min, x0_max, h),\n",
    "                             np.arange(x1_min, x1_max, h))\n",
    "\n",
    "    Z = categorizePoints(np.stack((xx0.ravel(),xx1.ravel())), decisionTree)\n",
    "\n",
    "    Z = Z.reshape(xx0.shape)\n",
    "    cm = plt.cm.RdBu\n",
    "    plt.contourf(xx0, xx1, Z, cmap=cm, alpha=.8)\n",
    "    plt.scatter(x[:,0], x[:,1], c = y)"
   ]
  },
  {
   "cell_type": "code",
   "execution_count": 12,
   "metadata": {},
   "outputs": [
    {
     "data": {
      "image/png": "[encoded data removed]",
      "text/plain": [
       "<Figure size 432x288 with 1 Axes>"
      ]
     },
     "metadata": {
      "needs_background": "light"
     },
     "output_type": "display_data"
    }
   ],
   "source": [
    "if (type(firstSplit['left']) is not int):\n",
    "    firstSplit['left'] = getEdge(firstSplit['left'])\n",
    "    firstSplit['left']['left'] = 30\n",
    "    firstSplit['left']['right'] = 40\n",
    "\n",
    "if (type(firstSplit['right']) is not int):\n",
    "    firstSplit['right'] = getEdge(firstSplit['right'])\n",
    "    firstSplit['right']['left'] = 50\n",
    "    firstSplit['right']['right'] = 60\n",
    "\n",
    "printDecisionsTree(x, firstSplit)"
   ]
  },
  {
   "cell_type": "code",
   "execution_count": 13,
   "metadata": {},
   "outputs": [
    {
     "name": "stdout",
     "output_type": "stream",
     "text": [
      "{'dimension': 1,\n",
      " 'edge': 0.36515879879192203,\n",
      " 'left': {'dimension': 0,\n",
      "          'edge': -0.39096409515293584,\n",
      "          'left': 0,\n",
      "          'right': {'dimension': 1,\n",
      "                    'edge': -0.06879987474102515,\n",
      "                    'left': 1,\n",
      "                    'right': {'dimension': 1,\n",
      "                              'edge': -0.05079038678678928,\n",
      "                              'left': 0,\n",
      "                              'right': {'dimension': 0,\n",
      "                                        'edge': 0.554355799161635,\n",
      "                                        'left': 1,\n",
      "                                        'right': {'dimension': 0,\n",
      "                                                  'edge': 1.3937613220043361,\n",
      "                                                  'left': 0,\n",
      "                                                  'right': 1}}}}},\n",
      " 'right': {'dimension': 0,\n",
      "           'edge': 1.5361108593358654,\n",
      "           'left': {'dimension': 1,\n",
      "                    'edge': 0.38255250343608316,\n",
      "                    'left': {'dimension': 1,\n",
      "                             'edge': 0.3797732434134446,\n",
      "                             'left': 0,\n",
      "                             'right': 1},\n",
      "                    'right': {'dimension': 1,\n",
      "                              'edge': 0.6282313255287204,\n",
      "                              'left': {'dimension': 1,\n",
      "                                       'edge': 0.5661970292250249,\n",
      "                                       'left': 0,\n",
      "                                       'right': 1},\n",
      "                              'right': 0}},\n",
      "           'right': 1}}\n"
     ]
    },
    {
     "data": {
      "image/png": "[encoded data removed]",
      "text/plain": [
       "<Figure size 432x288 with 1 Axes>"
      ]
     },
     "metadata": {
      "needs_background": "light"
     },
     "output_type": "display_data"
    }
   ],
   "source": [
    "def getDesisionTree(valuesSet):\n",
    "    decision = getEdge(valuesSet);\n",
    "    \n",
    "    if (type(decision) is int):\n",
    "        return decision;\n",
    "    else:\n",
    "        return {\n",
    "            'dimension': decision['dimension'],\n",
    "            'edge': decision['edge'],\n",
    "            'left': getDesisionTree(decision['left']),\n",
    "            'right': getDesisionTree(decision['right']),\n",
    "        }\n",
    "\n",
    "tree = getDesisionTree({\n",
    "    'x': x,\n",
    "    'y': y,\n",
    "})\n",
    "\n",
    "import pprint\n",
    "pprint.pprint(tree)\n",
    "\n",
    "printDecisionsTree(x, tree)"
   ]
  },
  {
   "cell_type": "markdown",
   "metadata": {},
   "source": [
    "## Задание №2. Кросс-проверка и  подбор параметров для дерева решений"
   ]
  },
  {
   "cell_type": "markdown",
   "metadata": {},
   "source": [
    "В задании воспользуемся готовой функцией для построения дерева решений DecisionTreeClassifier. Использовать будем данные с платформы kaggle, где проводится классификация пациентов на здоровых ('Normal') и с заболеванием ('Abnormal'). Подробности о признаках тут: https://www.kaggle.com/uciml/biomechanical-features-of-orthopedic-patients/home\n",
    "Необходимо построить кросс-проверку (cross_val_score в sklearn.cross_validation ) алгоритма \"Дерево решений\" на 5 подвыборках, причем дерево должно не ограничиваться по глубине (max_depth), в листовой вершине дерева должен быть хотя бы один объект (min_samples_leaf), минимальное количество объектов должно быть не менее 2 для разбиения (min_samples_split) и random_state=42.\n",
    "Оцените результаты получившиеся на валидационной выборке с использованием F1-меры, точности и полноты (в параметре scoring к методу cross_val_score необходимо использовать 'f1_weighted', 'precision_weighted', 'recall_weighted'). \n",
    "\n",
    "Точность и полнота позволяют провести оценку классификации.\n",
    "Точность (Precision) - это отношение количества правильно классифицированных объектов класса к количеству объектов, которые классифицированы как данный класс.\n",
    "Полнота (Recall) - это отношение количества правильно классифицированных объектов класса к количеству объектов данного класса в тестовой выборке.\n",
    "Введем следующие понятия:\n",
    "\n",
    "$TP$  — истино-положительное решение;\n",
    "$TN$ — истино-отрицательное решение;\n",
    "$FP$ — ложно-положительное решение;\n",
    "$FN$ — ложно-отрицательное решение.\n",
    "\n",
    "Тогда \n",
    "\n",
    "$Precision = \\frac{TP}{TP+FP}$, \n",
    "\n",
    "$Recall = \\frac{TP}{TP+TN}$.\n",
    "\n",
    "Точность и полнота изменяются в интервале [0, 1]. Чем выше точность и полнота, тем лучше классификатор. Однако, по двум метрикам очень сложно чудить о качестве классификации, поэтому используют F1-меру:\n",
    "\n",
    "$F1 = \\frac{2 \\times Precision \\times Recall}{Precision + Recall}$\n",
    "\n",
    "В нашем задании будем использовать взвешенную сумму F1-меры, точности и полноты для каждого класса."
   ]
  },
  {
   "cell_type": "code",
   "execution_count": 14,
   "metadata": {},
   "outputs": [
    {
     "name": "stderr",
     "output_type": "stream",
     "text": [
      "C:\\Users\\DSycheva\\Anacondaa\\lib\\site-packages\\sklearn\\cross_validation.py:41: DeprecationWarning: This module was deprecated in version 0.18 in favor of the model_selection module into which all the refactored classes and functions are moved. Also note that the interface of the new CV iterators are different from that of this module. This module will be removed in 0.20.\n",
      "  \"This module will be removed in 0.20.\", DeprecationWarning)\n"
     ]
    }
   ],
   "source": [
    "import pandas as pd\n",
    "from sklearn.tree import DecisionTreeClassifier\n",
    "from sklearn.cross_validation import cross_val_score\n",
    "from sklearn.metrics.classification import f1_score, precision_score, recall_score"
   ]
  },
  {
   "cell_type": "code",
   "execution_count": 15,
   "metadata": {},
   "outputs": [
    {
     "data": {
      "text/plain": [
       "Index(['pelvic_incidence', 'pelvic_tilt numeric', 'lumbar_lordosis_angle',\n",
       "       'sacral_slope', 'pelvic_radius', 'degree_spondylolisthesis', 'class'],\n",
       "      dtype='object')"
      ]
     },
     "execution_count": 15,
     "metadata": {},
     "output_type": "execute_result"
    }
   ],
   "source": [
    "df = pd.read_csv('column_2C_weka.csv')\n",
    "df.columns"
   ]
  },
  {
   "cell_type": "code",
   "execution_count": 16,
   "metadata": {},
   "outputs": [
    {
     "name": "stdout",
     "output_type": "stream",
     "text": [
      "f1_weighted:  [1.         0.8989899  0.84962406 0.8        0.79166667]\n",
      "precision_weighted:  [1.         0.91666667 0.85353535 0.8        0.85714286]\n",
      "recall_weighted:  [1.   0.9  0.85 0.8  0.8 ]\n"
     ]
    }
   ],
   "source": [
    "clf = DecisionTreeClassifier(min_samples_leaf=1, min_samples_split=2, random_state=42)\n",
    "\n",
    "classes = df.values[:,6]\n",
    "values = df.values[:,:6]\n",
    "\n",
    "for scoring in ['f1_weighted', 'precision_weighted', 'recall_weighted']: \n",
    "    print(scoring + ': ', cross_val_score(clf, x, y, scoring=scoring, cv=5))"
   ]
  },
  {
   "cell_type": "markdown",
   "metadata": {},
   "source": [
    "Следует отметить, что по одной метрике не очень удобно проводить оценку. В этой связи, лучшим вариантом кросс-проверки будет использование функции cross_validate из sklearn.model_selection. В нее можно передать несколько метрик и оценивать каждый шаг кросс проверки по нескольким метрикам, причем для тренировочного (return_train_score=True) и валидационного набора данных.\n",
    "Оцените результаты на тренировочном и тестовом наборе. Объясните получившиеся результаты.\n"
   ]
  },
  {
   "cell_type": "code",
   "execution_count": 17,
   "metadata": {},
   "outputs": [],
   "source": [
    "from sklearn.model_selection import cross_validate"
   ]
  },
  {
   "cell_type": "code",
   "execution_count": 18,
   "metadata": {},
   "outputs": [
    {
     "name": "stdout",
     "output_type": "stream",
     "text": [
      "Время подсчета качества оченки результатов выборки для тестового набора данных [0.         0.00099945 0.         0.00100017 0.        ]\n",
      "Время подсчета качества оченки результатов выборки для тренировочного набора данных [0.00099754 0.         0.00099564 0.         0.00199342]\n",
      "Оценка качества обработки выборки на тестовых данных [1.   0.9  0.85 0.8  0.8 ]\n",
      "Оценка качества обработки выборки на тренировочных данных [1. 1. 1. 1. 1.]\n"
     ]
    }
   ],
   "source": [
    "score = cross_validate(clf, x, y, scoring=scoring, cv=5, return_train_score=True)\n",
    "\n",
    "print('Время подсчета качества оченки результатов выборки для тестового набора данных', score['fit_time'])\n",
    "print('Время подсчета качества оченки результатов выборки для тренировочного набора данных', score['score_time'])\n",
    "print('Оценка качества обработки выборки на тестовых данных', score['test_score'])\n",
    "print('Оценка качества обработки выборки на тренировочных данных', score['train_score'])"
   ]
  },
  {
   "cell_type": "markdown",
   "metadata": {},
   "source": [
    "Объяснение: Первые показатели значительно уступают вторым"
   ]
  },
  {
   "cell_type": "markdown",
   "metadata": {},
   "source": [
    "Подбор параметров для модели можно проводить с помощью GridSearchCV из sklearn.model_selection. Возьмите параметр максимальной глубины дерева от 1 до 20. Относительно этого параметра вычислите средевзвешенную F1-меру для 5 разбиений. Постройте график зависимости F1-меры от максимальной глубины дерева. Получить результаты построения можно методом cv_results_.\n",
    "\n",
    "Проведите оценку результатов. Почему на тестовой выборке F1-мера не увеличивается. "
   ]
  },
  {
   "cell_type": "code",
   "execution_count": 19,
   "metadata": {},
   "outputs": [],
   "source": [
    "from sklearn.model_selection import GridSearchCV"
   ]
  },
  {
   "cell_type": "code",
   "execution_count": 20,
   "metadata": {},
   "outputs": [
    {
     "data": {
      "text/plain": [
       "[<matplotlib.lines.Line2D at 0x1adecf418d0>]"
      ]
     },
     "execution_count": 20,
     "metadata": {},
     "output_type": "execute_result"
    },
    {
     "data": {
      "image/png": "[encoded data removed]",
      "text/plain": [
       "<Figure size 432x288 with 1 Axes>"
      ]
     },
     "metadata": {
      "needs_background": "light"
     },
     "output_type": "display_data"
    }
   ],
   "source": [
    "dTC = DecisionTreeClassifier(min_samples_leaf=1, min_samples_split=2, random_state=42, max_depth=1)\n",
    "\n",
    "tree_para = {'max_depth':[depth for depth in range(1, 21)]}\n",
    "clf = GridSearchCV(dTC, tree_para, cv=5, scoring='f1_weighted')\n",
    "clf.fit(values, classes)\n",
    "\n",
    "plt.plot([param['max_depth'] for param in clf.cv_results_['params']], clf.cv_results_['mean_test_score'])"
   ]
  },
  {
   "cell_type": "markdown",
   "metadata": {},
   "source": [
    "Объяснение: Все колебания(изменения) происходят до точки 10. Затем изменений нет."
   ]
  },
  {
   "cell_type": "markdown",
   "metadata": {},
   "source": [
    "То же самое проведите для параметра min_samples_split от 2 до 20.\n",
    "\n",
    "Проведите оценку результатов. "
   ]
  },
  {
   "cell_type": "code",
   "execution_count": 21,
   "metadata": {},
   "outputs": [
    {
     "data": {
      "text/plain": [
       "<matplotlib.collections.PathCollection at 0x1adecfac2e8>"
      ]
     },
     "execution_count": 21,
     "metadata": {},
     "output_type": "execute_result"
    },
    {
     "data": {
      "image/png": "[encoded data removed]",
      "text/plain": [
       "<Figure size 432x288 with 1 Axes>"
      ]
     },
     "metadata": {
      "needs_background": "light"
     },
     "output_type": "display_data"
    }
   ],
   "source": [
    "dTC = DecisionTreeClassifier(min_samples_leaf=1, random_state=42, max_depth=1)\n",
    "\n",
    "tree_para = {'min_samples_split':[depth for depth in range(2, 21)]}\n",
    "clf = GridSearchCV(dTC, tree_para, cv=5, scoring='f1_weighted')\n",
    "clf.fit(values, classes)\n",
    "\n",
    "plt.scatter([param['min_samples_split'] for param in clf.cv_results_['params']], clf.cv_results_['mean_test_score'])"
   ]
  },
  {
   "cell_type": "markdown",
   "metadata": {},
   "source": [
    "Объяснение: Лучший результат в точке 9"
   ]
  },
  {
   "cell_type": "markdown",
   "metadata": {},
   "source": [
    "То же самое проведите для параметра min_samples_leaf от 1 до 10.\n",
    "\n",
    "Проведите оценку результатов. "
   ]
  },
  {
   "cell_type": "code",
   "execution_count": 22,
   "metadata": {},
   "outputs": [
    {
     "data": {
      "text/plain": [
       "<matplotlib.collections.PathCollection at 0x1aded00b518>"
      ]
     },
     "execution_count": 22,
     "metadata": {},
     "output_type": "execute_result"
    },
    {
     "data": {
      "image/png": "[encoded data removed]",
      "text/plain": [
       "<Figure size 432x288 with 1 Axes>"
      ]
     },
     "metadata": {
      "needs_background": "light"
     },
     "output_type": "display_data"
    }
   ],
   "source": [
    "dTC = DecisionTreeClassifier(min_samples_split=2, random_state=42, max_depth=1)\n",
    "\n",
    "tree_para = {'min_samples_leaf':[depth for depth in range(1, 11)]}\n",
    "clf = GridSearchCV(dTC, tree_para, cv=5, scoring='f1_weighted')\n",
    "clf.fit(values, classes)\n",
    "\n",
    "plt.scatter([param['min_samples_leaf'] for param in clf.cv_results_['params']], clf.cv_results_['mean_test_score'])"
   ]
  }
 ],
 "metadata": {
  "kernelspec": {
   "display_name": "Python 3",
   "language": "python",
   "name": "python3"
  },
  "language_info": {
   "codemirror_mode": {
    "name": "ipython",
    "version": 3
   },
   "file_extension": ".py",
   "mimetype": "text/x-python",
   "name": "python",
   "nbconvert_exporter": "python",
   "pygments_lexer": "ipython3",
   "version": "3.7.0"
  }
 },
 "nbformat": 4,
 "nbformat_minor": 2
}
